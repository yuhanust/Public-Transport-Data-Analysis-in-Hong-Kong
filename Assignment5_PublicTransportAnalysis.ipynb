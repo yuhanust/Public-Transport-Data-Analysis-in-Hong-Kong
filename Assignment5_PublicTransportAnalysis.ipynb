{
 "cells": [
  {
   "cell_type": "code",
   "execution_count": 1,
   "id": "e50ba2e5",
   "metadata": {},
   "outputs": [],
   "source": [
    "import requests\n",
    "import pandas as pd\n",
    "import folium\n",
    "import json"
   ]
  },
  {
   "cell_type": "code",
   "execution_count": 2,
   "id": "b9d0f517",
   "metadata": {},
   "outputs": [
    {
     "data": {
      "image/png": "[encoded data removed]",
      "text/plain": [
       "<Figure size 640x480 with 1 Axes>"
      ]
     },
     "metadata": {},
     "output_type": "display_data"
    }
   ],
   "source": [
    "# Coordinates of major stops\n",
    "coordinates = {\n",
    "    \"Ap Lei Chau Estate\": [22.2484, 114.1535],\n",
    "    \"Aberdeen\": [22.2480, 114.1548],\n",
    "    \"Wong Chuk Hang\": [22.2480, 114.1605],\n",
    "    \"Wan Chai\": [22.2762, 114.1757],\n",
    "    \"Central\": [22.2829, 114.1588],\n",
    "    \"Western Harbour Crossing\": [22.2884, 114.1558],\n",
    "    \"Tsing Yi\": [22.3535, 114.1054],\n",
    "    \"Airport\": [22.3080, 113.9185],\n",
    "    \"North Point Ferry Pier\": [22.2933, 114.2018],\n",
    "    \"Causeway Bay\": [22.2797, 114.1833],\n",
    "    \"Admiralty\": [22.2783, 114.1655],\n",
    "    \"Sai Wan Ho Ferry Pier\": [22.2867, 114.2155],\n",
    "    \"Shau Kei Wan\": [22.2797, 114.2261],\n",
    "    \"Hung Hom Station\": [22.3030, 114.1858],\n",
    "    \"Tsim Sha Tsui\": [22.2973, 114.1722],\n",
    "    \"Jordan\": [22.3042, 114.1717],\n",
    "    \"Mong Kok\": [22.3193, 114.1706],\n",
    "    \"Prince Edward\": [22.3244, 114.1688],\n",
    "    \"Lai Chi Kok\": [22.3374, 114.1476],\n",
    "    \"Lam Tin Station\": [22.3070, 114.2345],\n",
    "    \"Kwun Tong\": [22.3138, 114.2219],\n",
    "    \"Ngau Tau Kok\": [22.3152, 114.2141],\n",
    "    \"Kowloon Bay\": [22.3237, 114.2031],\n",
    "    \"Kai Tak\": [22.3240, 114.2010],\n",
    "    \"North Point\": [22.2933, 114.2018] # 添加缺失的站点\n",
    "}\n",
    "\n",
    "# Bus route information\n",
    "data_str = '''[{\"route_number\": \"A10\", \"start_point\": \"Ap Lei Chau\", \"end_point\": \"Airport\", \"stops\": [\"Ap Lei Chau Estate\", \"Aberdeen\", \"Wong Chuk Hang\", \"Wan Chai\", \"Central\", \"Western Harbour Crossing\", \"Tsing Yi\", \"Airport\"]}, {\"route_number\": \"A11\", \"start_point\": \"North Point\", \"end_point\": \"Airport\", \"stops\": [\"North Point Ferry Pier\", \"Causeway Bay\", \"Wan Chai\", \"Admiralty\", \"Central\", \"Western Harbour Crossing\", \"Tsing Yi\", \"Airport\"]}, {\"route_number\": \"A12\", \"start_point\": \"Sai Wan Ho\", \"end_point\": \"Airport\", \"stops\": [\"Sai Wan Ho Ferry Pier\", \"Shau Kei Wan\", \"North Point\", \"Central\", \"Western Harbour Crossing\", \"Tsing Yi\", \"Airport\"]}, {\"route_number\": \"A21\", \"start_point\": \"Hung Hom\", \"end_point\": \"Airport\", \"stops\": [\"Hung Hom Station\", \"Tsim Sha Tsui\", \"Jordan\", \"Mong Kok\", \"Prince Edward\", \"Lai Chi Kok\", \"Tsing Yi\", \"Airport\"]}, {\"route_number\": \"A22\", \"start_point\": \"Lam Tin\", \"end_point\": \"Airport\", \"stops\": [\"Lam Tin Station\", \"Kwun Tong\", \"Ngau Tau Kok\", \"Kowloon Bay\", \"Kai Tak\", \"Tsing Yi\", \"Airport\"]}]'''\n",
    "data_dict = json.loads(data_str)\n",
    "\n",
    "# Create a list to store the extracted information\n",
    "routes = []\n",
    "\n",
    "# Extract relevant information\n",
    "for route in data_dict:\n",
    "    route_number = route[\"route_number\"]\n",
    "    start_point = route[\"start_point\"]\n",
    "    end_point = route[\"end_point\"]\n",
    "    major_stops = route[\"stops\"]\n",
    "\n",
    "    # Add the information to the list\n",
    "    routes.append({\n",
    "        \"route_number\": route_number,\n",
    "        \"start_point\": start_point,\n",
    "        \"end_point\": end_point,\n",
    "        \"major_stops\": major_stops\n",
    "    })\n",
    "\n",
    "# Convert the list to a pandas DataFrame\n",
    "df = pd.DataFrame(routes)\n",
    "\n",
    "# Calculate the number of major stops for each route\n",
    "df[\"num_major_stops\"] = df[\"major_stops\"].apply(len)\n",
    "\n",
    "# Calculate the average number of major stops per route\n",
    "avg_num_major_stops = df[\"num_major_stops\"].mean()\n",
    "\n",
    "# Create a bar chart showing the number of major stops per route\n",
    "df.plot.bar(x=\"route_number\", y=\"num_major_stops\", rot=0)\n",
    "\n",
    "# Create a map showing the bus routes\n",
    "m = folium.Map(location=[22.3193, 114.1694], zoom_start=11)\n",
    "\n",
    "for index, row in df.iterrows():\n",
    "    # Extract the major stops for the route\n",
    "    major_stops = row[\"major_stops\"]\n",
    "\n",
    "    # Create a list of coordinates for the major stops\n",
    "    coordinates_list = []\n",
    "    for stop in major_stops:\n",
    "        coordinates_list.append(coordinates[stop])\n",
    "\n",
    "    # Add a polyline to the map representing the route\n",
    "    folium.PolyLine(locations=coordinates_list, color=\"blue\", weight=5).add_to(m)\n"
   ]
  },
  {
   "cell_type": "code",
   "execution_count": null,
   "id": "f8e0020e",
   "metadata": {},
   "outputs": [],
   "source": [
    "# Save the map as an HTML file\n",
    "m.save(\"bus_routes.html\")"
   ]
  }
 ],
 "metadata": {
  "kernelspec": {
   "display_name": "Python 3 (ipykernel)",
   "language": "python",
   "name": "python3"
  },
  "language_info": {
   "codemirror_mode": {
    "name": "ipython",
    "version": 3
   },
   "file_extension": ".py",
   "mimetype": "text/x-python",
   "name": "python",
   "nbconvert_exporter": "python",
   "pygments_lexer": "ipython3",
   "version": "3.11.5"
  }
 },
 "nbformat": 4,
 "nbformat_minor": 5
}
